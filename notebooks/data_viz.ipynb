{
 "cells": [
  {
   "cell_type": "code",
   "execution_count": null,
   "id": "b69b7f1a-d201-497e-b13d-227e39a1c99f",
   "metadata": {},
   "outputs": [],
   "source": [
    "import json\n",
    "from tqdm import tqdm"
   ]
  },
  {
   "cell_type": "code",
   "execution_count": null,
   "id": "76859d0e-2800-45fb-885a-39ef277df11a",
   "metadata": {},
   "outputs": [],
   "source": [
    "DATASET_PATH = \"/Users/reshinthadithyan/master/research/code-research/carperai/CodeReviewSE/dataset/CodeReviewSE_clean.json\""
   ]
  },
  {
   "cell_type": "code",
   "execution_count": null,
   "id": "e9ed38e4-9a52-40a1-a826-db6edce21aa9",
   "metadata": {},
   "outputs": [],
   "source": [
    "with open(DATASET_PATH,\"r\") as f:\n",
    "    dataset = json.load(f)"
   ]
  },
  {
   "cell_type": "code",
   "execution_count": null,
   "id": "6cc64d64-020b-4d50-a1da-460412db148f",
   "metadata": {},
   "outputs": [],
   "source": [
    "def select_datapoint(ind:int):\n",
    "    return dataset[list(dataset.keys())[ind]]"
   ]
  },
  {
   "cell_type": "code",
   "execution_count": null,
   "id": "24dcd54c-3a00-4e64-92c2-fb72e37000b4",
   "metadata": {},
   "outputs": [
    {
     "data": {
      "text/plain": [
       "{'body': \"<p>I am playing with different ways to do database interaction in PHP, and one of the ideas I have been playing with is connecting to the DB in the constructor and disconnecting in the destructor. This is the code from my <code>Database</code> class.</p>\\n\\n<pre><code>function __construct()\\n{\\n  $this-&gt;link = mysql_connect($this-&gt;server.':'.$this-&gt;port, $this-&gt;username);\\n  if(!$this-&gt;link)\\n    die('Could not connect: '.mysql_error());\\n\\n  if(!mysql_select_db($this-&gt;database, $this-&gt;link))\\n    die('Could not select database: '.mysql_error());\\n}    \\n\\nfunction __destruct()\\n{\\n  if(mysql_close($this-&gt;link))\\n    $this-&gt;link = null; \\n}\\n</code></pre>\\n\\n<p>This works well, my only reservation is that if I need to connect several to hit the database several times it will do multiple connections and disconnects. If I do that a lot I can see, maybe, potential problems. Is this a concern or is there a better way to do this? And is my code even up to snuff in general?</p>\\n\",\n",
       " 'comments': [{'body': 'Look at the URL number. This is the first question humanity ever asked here!',\n",
       "   'Id': '496986',\n",
       "   'Score': '0',\n",
       "   'CreationDate': '2020-11-18T07:49:12.973',\n",
       "   'ContentLicense': 'CC BY-SA 4.0'}],\n",
       " 'answers': [{'body': '<p>You could use MySQLi (PHP extension) which is class based by default instead of MySQL. It \\nis very easy to set up multiple connections. You are, however, required to know the connection you are querying always.</p>\\n\\n<hr>\\n\\n<p>Congrats with the first question.</p>\\n',\n",
       "   'comments': [],\n",
       "   'meta_data': {'Id': '3',\n",
       "    'Score': '19',\n",
       "    'CreationDate': '2011-01-19T21:04:27.663',\n",
       "    'CommentCount': '0',\n",
       "    'ContentLicense': 'CC BY-SA 2.5',\n",
       "    'ParentId': '1'}},\n",
       "  {'body': \"<p>From your question I infer that you're thinking of having several instances of the DB class.  If so I'd suggest abstracting the connection out to another class and holding a reference to the same connection in each DB instance.</p>\\n\\n<p>You could then set your connection up as a singleton and thus only connect &amp; disconnect once.</p>\\n\\n<p>Apologies in advance if I've missed anything here - my PHP is far from fluent.</p>\\n\",\n",
       "   'comments': [{'body': \"Yes. I will have multiple instances of the database class. I just wasn't sure on a good approach to make for abstracting away the connection, or if I even should.\",\n",
       "     'Id': '13',\n",
       "     'Score': '0',\n",
       "     'CreationDate': '2011-01-19T21:14:45.420',\n",
       "     'ContentLicense': 'CC BY-SA 2.5'},\n",
       "    {'body': 'The thing is I\\'ve been stung in the past by using more than one connection when I could\\'ve shared the connection so I\\'d say \"abstract it unless you can think of a very good reason not to\"',\n",
       "     'Id': '49',\n",
       "     'Score': '0',\n",
       "     'CreationDate': '2011-01-19T21:58:41.740',\n",
       "     'ContentLicense': 'CC BY-SA 2.5'}],\n",
       "   'meta_data': {'Id': '5',\n",
       "    'Score': '18',\n",
       "    'CreationDate': '2011-01-19T21:10:07.140',\n",
       "    'CommentCount': '2',\n",
       "    'ContentLicense': 'CC BY-SA 2.5',\n",
       "    'ParentId': '1'}},\n",
       "  {'body': '<p>You might also look into the built-in php command mysql_pconnect().  This differs from mysql_connect in that it opens a persistent connection to the DB the first time it is called, and each subsequent time, it checks to see if an existing connection to that database exists and uses that connection instead.  You should then remove the mysql_close command from the destructor, as they will persist between page loads.</p>\\n\\n<p>The php manual page: <a href=\"http://php.net/manual/en/function.mysql-pconnect.php\">http://php.net/manual/en/function.mysql-pconnect.php</a></p>\\n',\n",
       "   'comments': [{'body': \"I read about that, and it sounds very enticing. However, how do you close the connection? in the docs it says the mysql_close() doesn't work. Do you just rely on mysql server to close it when it has been inactive for so long. I'd like to know that once all the work is done that the connection is closed.\",\n",
       "     'Id': '19',\n",
       "     'Score': '0',\n",
       "     'CreationDate': '2011-01-19T21:19:33.573',\n",
       "     'ContentLicense': 'CC BY-SA 2.5'},\n",
       "    {'body': \"You don't close the connection explicitly.  It eventually gets closed by the php internals after a certain time has elapsed without use.  This eliminates all of the overhead involved with repeatedly opening and closing connections, and allows individual page requests to be much faster.\",\n",
       "     'Id': '23',\n",
       "     'Score': '0',\n",
       "     'CreationDate': '2011-01-19T21:22:54.403',\n",
       "     'ContentLicense': 'CC BY-SA 2.5'},\n",
       "    {'body': \"Okay, i'll do some playing with this too. Thanks.\",\n",
       "     'Id': '28',\n",
       "     'Score': '0',\n",
       "     'CreationDate': '2011-01-19T21:26:33.283',\n",
       "     'ContentLicense': 'CC BY-SA 2.5'}],\n",
       "   'meta_data': {'Id': '6',\n",
       "    'Score': '16',\n",
       "    'CreationDate': '2011-01-19T21:12:43.930',\n",
       "    'CommentCount': '3',\n",
       "    'ContentLicense': 'CC BY-SA 2.5',\n",
       "    'ParentId': '1'}},\n",
       "  {'body': '<p>use an abstraction library like Pear MDB2 for your database connection. </p>\\n\\n<p>This abstracts all the connection logic away from your code, so should ever change your database (mysql to SQLite,etc) you won\\'t have to change your code. </p>\\n\\n<p><a href=\"http://pear.php.net/manual/en/package.database.mdb2.php\">http://pear.php.net/manual/en/package.database.mdb2.php</a></p>\\n',\n",
       "   'comments': [{'body': \"The last stable release was in [2007](http://pear.php.net/package/MDB2)...  So either it's good to the point where it doesn't need updating (doubt it, since there's a beta in the works), or it's just plain inactive (more likely)  There are tons of better abstraction layers (IMHO) that are more actively developed than this...\",\n",
       "     'Id': '38',\n",
       "     'Score': '3',\n",
       "     'CreationDate': '2011-01-19T21:42:57.963',\n",
       "     'ContentLicense': 'CC BY-SA 2.5'},\n",
       "    {'body': \"i haven't used PHP in a while,so please feel free to add it in this thread or create a new response :) my point is that a much better solution is to abstract the connection/query logic away via a library, more so than a specific library.\",\n",
       "     'Id': '39',\n",
       "     'Score': '1',\n",
       "     'CreationDate': '2011-01-19T21:46:32.370',\n",
       "     'ContentLicense': 'CC BY-SA 2.5'}],\n",
       "   'meta_data': {'Id': '19',\n",
       "    'Score': '13',\n",
       "    'CreationDate': '2011-01-19T21:32:29.907',\n",
       "    'CommentCount': '2',\n",
       "    'ContentLicense': 'CC BY-SA 2.5',\n",
       "    'ParentId': '1'}},\n",
       "  {'body': '<p>I don\\'t think it makes any difference in regards to connecting to the database within the construction or within a connect method, what i do think you need to change is those die commands.</p>\\n\\n<p>using die causes the script to halt and send 1 little message to the user, who would think this is rubbish, and never visit your site again :( :(</p>\\n\\n<p>What you should be doing is catching your errors, and redirecting to a static page where you can show a very nice message to the user, fully apologising for the technical issues your having.</p>\\n\\n<p>You can also have an box that says, Enter your email address and we will email you when were back on line, you get the idea.</p>\\n\\n<p>as for the code I would go down the lines of:</p>\\n\\n<pre><code>class Database\\n{\\n    public function __construct($autoconnect = false)\\n    {\\n        //Here you would \\'globalize\\' your config and set it locally as a reference.\\n        if($autoconnect === true)\\n        {\\n             $this-&gt;connect();\\n        }\\n    }\\n\\n    public function connect()\\n    {\\n        if($this-&gt;connected() === false)\\n        {\\n             $result = $this-&gt;driver-&gt;sendCommand(\"connect\");\\n             if($result === true)\\n             {\\n                  $this-&gt;setConnectionState(\"active\");\\n                  $this-&gt;setConnectionResource($this-&gt;driver-&gt;sendCommand(\"get_resource\"));\\n             }else\\n             {\\n                 throw new DatabaseConnectionError($this-&gt;driver-&gt;sendCommand(\"getDriverError\"));\\n             }\\n        }\\n    }\\n}\\n</code></pre>\\n\\n<p>This gives you more functionality in the long run as every action is decidable within your APP, nothing is auto fired on default.</p>\\n\\n<p>you can simple use try,catch blocks to maintain your error reporting.</p>\\n',\n",
       "   'comments': [{'body': '+1 for the use of try/catch. Also I have experienced issues with failures thrown in the constructor: you do not have an instance of the object to implement whatever fallback mechanism would make sense, which in my case was using large parts of code present in the class... Without a valid instance, you cannot call instance methods, and I had to make some static methods, which was less than ideal.',\n",
       "     'Id': '239',\n",
       "     'Score': '0',\n",
       "     'CreationDate': '2011-01-22T09:29:26.970',\n",
       "     'ContentLicense': 'CC BY-SA 2.5'},\n",
       "    {'body': \"Thanks, But I'me struggling to understand you, Can you please rephrase your comment please.\",\n",
       "     'Id': '244',\n",
       "     'Score': '0',\n",
       "     'CreationDate': '2011-01-22T12:33:19.980',\n",
       "     'ContentLicense': 'CC BY-SA 2.5'},\n",
       "    {'body': 'Sure :) Throwing exceptions is fine as long as you add code to try and catch them. Avoid code that throws exceptions in a constructor though, this could lead to some issues that I have experienced: in case of failure, you have no object created, and you might miss that in your catch block, if you want to reuse behaviors defined for this object. I would rather recommend to create the connection in a regular method, e.g. init() or connect(), called on the object after it has been created, not directly in the constructor.',\n",
       "     'Id': '251',\n",
       "     'Score': '0',\n",
       "     'CreationDate': '2011-01-22T17:12:59.320',\n",
       "     'ContentLicense': 'CC BY-SA 2.5'}],\n",
       "   'meta_data': {'Id': '41',\n",
       "    'Score': '11',\n",
       "    'CreationDate': '2011-01-19T23:31:15.977',\n",
       "    'CommentCount': '3',\n",
       "    'ContentLicense': 'CC BY-SA 2.5',\n",
       "    'ParentId': '1'}}],\n",
       " 'meta_data': {'Id': '1',\n",
       "  'Score': '39',\n",
       "  'CreationDate': '2011-01-19T21:02:47.183',\n",
       "  'CommentCount': '1',\n",
       "  'ContentLicense': 'CC BY-SA 3.0',\n",
       "  'Tags': ['php', 'mysql', 'constructor'],\n",
       "  'Title': 'Database connection in constructor and destructor',\n",
       "  'AcceptedAnswerId': '5'}}"
      ]
     },
     "execution_count": null,
     "metadata": {},
     "output_type": "execute_result"
    }
   ],
   "source": [
    "select_datapoint(0)"
   ]
  },
  {
   "cell_type": "code",
   "execution_count": null,
   "id": "0f150ddb-00cb-4e31-a1c7-738fa36b665d",
   "metadata": {},
   "outputs": [],
   "source": [
    "def make_stats_for_code(dataset):\n",
    "    tags_dict = {}\n",
    "    for index in tqdm(range(10))#len(dataset))):\n",
    "        datapoint = select_datapoint(index)\n",
    "        score = \n",
    "        for tag in tags:\n",
    "            if tag not in tags_dict:\n",
    "                tags_dict[\"tag\"] = {}\n",
    "            tags_dict[\"tag\"][\"score\"] = \n",
    "        \n",
    "        "
   ]
  }
 ],
 "metadata": {
  "kernelspec": {
   "display_name": "Python 3 (ipykernel)",
   "language": "python",
   "name": "python3"
  }
 },
 "nbformat": 4,
 "nbformat_minor": 5
}
