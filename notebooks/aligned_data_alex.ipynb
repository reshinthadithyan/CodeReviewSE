{
 "cells": [
  {
   "cell_type": "code",
   "execution_count": null,
   "id": "63036b1b",
   "metadata": {},
   "outputs": [],
   "source": [
    "import json"
   ]
  },
  {
   "cell_type": "code",
   "execution_count": null,
   "id": "4b29c097",
   "metadata": {},
   "outputs": [],
   "source": [
    "with open(\"/Users/reshinthadithyan/master/research/code-research/carperai/CodeReviewSE/dataset/aligned_data_with_keys.json\",\"r\") as f:\n",
    "    aligned_data_dict = json.load(f)"
   ]
  },
  {
   "cell_type": "markdown",
   "id": "8c1816fc",
   "metadata": {},
   "source": [
    "## Key Description\n",
    "1. `sub_text` is the selected portion of the submission corresponding to a subset of the review\n",
    "2. `pre_text` is a set of natural language paragraphs containing potentially relevant critiques coming inline before mid_text\n",
    "3. `mid_text` is a set of review code blocks and natural language critiques which are aligned to sub_text\n",
    "4. `post_text` is a set of natural language paragraphs containing potentially relevant critiques coming inline after mid_text \n"
   ]
  },
  {
   "cell_type": "code",
   "execution_count": null,
   "id": "1747296f",
   "metadata": {},
   "outputs": [
    {
     "name": "stdout",
     "output_type": "stream",
     "text": [
      "{'mid_blocks': ['static void Main(string[] args)\\n'\n",
      "                '{\\n'\n",
      "                '    TestPerf(WrapIndex, \"Plain\");\\n'\n",
      "                '    TestPerf(WrapIndexMod, \"Mod\");\\n'\n",
      "                '    TestPerf(WrapIndexMask, \"Mask\");\\n'\n",
      "                '}\\n'\n",
      "                '\\n'\n",
      "                'public static void TestPerf(Func&lt;int, int, int, int&gt; '\n",
      "                'getIndex, string label, int numRuns = 10000)\\n'\n",
      "                '{\\n'\n",
      "                '    int maxSize = 4096;\\n'\n",
      "                '\\n'\n",
      "                '    Stopwatch sw = new Stopwatch();\\n'\n",
      "                '    sw.Start();\\n'\n",
      "                '\\n'\n",
      "                '    for (int i = 0; i &lt; numRuns; i++)\\n'\n",
      "                '    {\\n'\n",
      "                '        for (int index = 0; index &lt; maxSize; index++)\\n'\n",
      "                '        {\\n'\n",
      "                '            getIndex(index, 1234, maxSize);\\n'\n",
      "                '        }\\n'\n",
      "                '    }\\n'\n",
      "                '\\n'\n",
      "                '    sw.Stop();\\n'\n",
      "                '    Console.WriteLine(string.Format(\"{0}: {1}\", label, '\n",
      "                '((double)sw.ElapsedTicks) / numRuns));\\n'\n",
      "                '}\\n'],\n",
      " 'post_blocks': ['EDIT: Also notice that I cast ElapsedTicks to double before '\n",
      "                 'dividing to avoid rounding.  You should be careful to avoid '\n",
      "                 'rounding in your calculations because that just adds noise '\n",
      "                 'to your final result.',\n",
      "                 'EDIT 2:\\n'\n",
      "                 '<br>\\n'\n",
      "                 'I played around with the code snippet in your pastie link '\n",
      "                 'and I was originally getting the same results as you, but I '\n",
      "                 \"think I've finally gotten to the bottom of it.\",\n",
      "                 \"What's happening is that without that Func wrapper, the \"\n",
      "                 \"jitter is able to do some serious optimizing.  I know it's \"\n",
      "                 'the jitter and not the C# compiler, because all of the code '\n",
      "                 'is intact in the ildasm output.  In fact, for 2 out of your '\n",
      "                 \"3 methods (mod and mask), it's able to deduce that the \"\n",
      "                 \"methods aren't accomplishing anything at all (because \"\n",
      "                 \"they're doing a simple calculation, and the return value is \"\n",
      "                 \"just discarded), so it doesn't even bother calling them.\",\n",
      "                 'To validate that statement, simply comment out the line in '\n",
      "                 'WrapIndex() and return a plain 0, which is sure to get '\n",
      "                 \"optimized out.  Run your program again and you'll see that \"\n",
      "                 \"all three methods now report the same times.  There's no way \"\n",
      "                 'that doing a mod or a mask has the same cost as returning a '\n",
      "                 \"constant 0, so that tells you that the code just isn't being \"\n",
      "                 'executed.',\n",
      "                 'This is another issue you have to be aware of when doing '\n",
      "                 'perf tests.  If your test is too simple, the optimizer will '\n",
      "                 'just discard all of your code.',\n",
      "                 'In my test, the Func wrapper was preventing the jitter from '\n",
      "                 \"optimizing as much, because it doesn't know which code is \"\n",
      "                 \"going to be executed, so it can't inline and then discard \"\n",
      "                 'the code, which is why you get more reasonable numbers.',\n",
      "                 'So I think the results from my code, using the Func '\n",
      "                 'delegate, give a more accurate reflection of the relative '\n",
      "                 'costs of your three index methods.'],\n",
      " 'pre_blocks': ['In various runs, Plain and Mask tend to vary with respect to '\n",
      "                'each other, and sometimes show very similar numbers.  Mod '\n",
      "                'always tends to be slower.',\n",
      "                'And here is the code:'],\n",
      " 'question_id': '615',\n",
      " 'sub_text': 'public static void WrapTest(int numRuns = 10000)\\n'\n",
      "             '{\\n'\n",
      "             '    int index = 256;\\n'\n",
      "             '    int endIndex = 0;\\n'\n",
      "             '    int maxSize = 4096;\\n'\n",
      "             '\\n'\n",
      "             '    long wrapPlain = 0;\\n'\n",
      "             '    long wrapMod = 0;\\n'\n",
      "             '    long wrapMask = 0;\\n'\n",
      "             '\\n'\n",
      "             '    Stopwatch sw = new Stopwatch();\\n'\n",
      "             '\\n'\n",
      "             '    for (int i = 0; i &lt; numRuns; i++)\\n'\n",
      "             '    {\\n'\n",
      "             '\\n'\n",
      "             '        // plain\\n'\n",
      "             '        sw.Start();\\n'\n",
      "             '        for (int j = 0; j &lt; numRuns; j++)\\n'\n",
      "             '        {\\n'\n",
      "             '            WrapIndex(index, endIndex, maxSize);\\n'\n",
      "             '        }\\n'\n",
      "             '        sw.Stop();\\n'\n",
      "             '        wrapPlain += sw.ElapsedTicks;\\n'\n",
      "             '        sw.Reset();\\n'\n",
      "             '\\n'\n",
      "             '        // mod\\n'\n",
      "             '        sw.Start();\\n'\n",
      "             '        for (int j = 0; j &lt; numRuns; j++)\\n'\n",
      "             '        {\\n'\n",
      "             '            WrapIndexMod(index, endIndex, maxSize);\\n'\n",
      "             '        }\\n'\n",
      "             '        sw.Stop();\\n'\n",
      "             '        wrapMod += sw.ElapsedTicks;\\n'\n",
      "             '        sw.Reset();\\n'\n",
      "             '\\n'\n",
      "             '        // mask\\n'\n",
      "             '        sw.Start();\\n'\n",
      "             '        for (int j = 0; j &lt; numRuns; j++)\\n'\n",
      "             '        {\\n'\n",
      "             '            WrapIndexMask(index, endIndex, maxSize);\\n'\n",
      "             '        }\\n'\n",
      "             '        sw.Stop();\\n'\n",
      "             '        wrapMask += sw.ElapsedTicks;\\n'\n",
      "             '        sw.Reset();\\n'\n",
      "             '\\n'\n",
      "             '        // change indexes\\n'\n",
      "             '        endIndex++;\\n'\n",
      "             '        endIndex = endIndex % maxSize;\\n'\n",
      "             '\\n'\n",
      "             '        index++;\\n'\n",
      "             '        index = index % maxSize;\\n'\n",
      "             '    }\\n'\n",
      "             '    Console.WriteLine(String.Format(\"Plain: {0} Mod: {1} Mask: '\n",
      "             '{2}\", wrapPlain / numRuns, wrapMod / numRuns, wrapMask / numRuns'}\n"
     ]
    }
   ],
   "source": [
    "from pprint import pprint\n",
    "pprint(aligned_data_dict[100])"
   ]
  },
  {
   "cell_type": "code",
   "execution_count": null,
   "id": "e95b6857",
   "metadata": {},
   "outputs": [
    {
     "data": {
      "text/plain": [
       "143164"
      ]
     },
     "execution_count": null,
     "metadata": {},
     "output_type": "execute_result"
    }
   ],
   "source": [
    "len(aligned_data_dict)"
   ]
  },
  {
   "cell_type": "code",
   "execution_count": null,
   "id": "44c9033f",
   "metadata": {},
   "outputs": [],
   "source": []
  }
 ],
 "metadata": {
  "kernelspec": {
   "display_name": "Python 3 (ipykernel)",
   "language": "python",
   "name": "python3"
  }
 },
 "nbformat": 4,
 "nbformat_minor": 5
}
